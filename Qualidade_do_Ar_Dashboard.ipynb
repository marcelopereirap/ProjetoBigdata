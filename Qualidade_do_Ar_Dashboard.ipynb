{
 "cells": [
  {
   "cell_type": "markdown",
   "metadata": {},
   "source": [
    "# Dashboard Interativo - Qualidade do Ar e Saúde\n",
    "Este notebook gera visualizações interativas com base em dados simulados sobre poluentes e saúde pública."
   ]
  },
  {
   "cell_type": "code",
   "execution_count": null,
   "metadata": {},
   "outputs": [
    {
     "name": "stdout",
     "output_type": "stream",
     "text": [
      "SparkSession criada com sucesso!\n"
     ]
    }
   ],
   "source": [
    "import pandas as pd\n",
    "\n",
    "import os\n",
    "import sys\n",
    "from pyspark.sql import SparkSession\n",
    "from pyspark.sql.functions import col, avg, udf\n",
    "from pyspark.sql.types import StringType\n",
    "import plotly.express as px\n",
    "\n",
    "os.environ['PYSPARK_PYTHON'] = sys.executable\n",
    "os.environ['PYSPARK_DRIVER_PYTHON'] = sys.executable\n",
    "\n",
    "\n",
    "from pyspark.sql import SparkSession\n",
    "# etc...\n",
    "from pyspark.sql import SparkSession\n",
    "from pyspark.sql.functions import col, avg, udf\n",
    "from pyspark.sql.types import StringType\n",
    "\n",
    "spark = SparkSession.builder \\\n",
    "    .appName(\"QualidadeDoAr_1000Registros\") \\\n",
    "    .master(\"local[*]\") \\\n",
    "    .getOrCreate()\n",
    "\n",
    "print(\"SparkSession criada com sucesso!\")"
   ]
  },
  {
   "cell_type": "code",
   "execution_count": null,
   "metadata": {},
   "outputs": [
    {
     "name": "stdout",
     "output_type": "stream",
     "text": [
      "Schema do DataFrame Spark:\n",
      "root\n",
      " |-- id: integer (nullable = true)\n",
      " |-- data: date (nullable = true)\n",
      " |-- cidade: string (nullable = true)\n",
      " |-- pm2_5: double (nullable = true)\n",
      " |-- pm10: double (nullable = true)\n",
      " |-- no2: double (nullable = true)\n",
      " |-- so2: double (nullable = true)\n",
      " |-- o3: double (nullable = true)\n",
      " |-- co: double (nullable = true)\n",
      " |-- nh3: double (nullable = true)\n",
      " |-- pb: double (nullable = true)\n",
      " |-- umidade: double (nullable = true)\n",
      " |-- temperatura: double (nullable = true)\n",
      " |-- casos_problemas_respiratorios: integer (nullable = true)\n",
      "\n"
     ]
    }
   ],
   "source": [
    "spark_df = spark.read.csv(\n",
    "    'C:\\\\Users\\\\Ericp\\\\.vscode\\\\dashboard_qualidade_ar.csv',\n",
    "header=True,\n",
    "inferSchema=True\n",
    ")\n",
    "\n",
    "print(\"Schema do DataFrame Spark:\")\n",
    "spark_df.printSchema()"
   ]
  },
  {
   "cell_type": "code",
   "execution_count": null,
   "metadata": {},
   "outputs": [],
   "source": [
    "poluentes_cols = ['pm2_5', 'pm10', 'no2', 'so2', 'o3', 'co', 'nh3', 'pb']\n",
    "\n",
    "spark_df_processed = spark_df.withColumn(\n",
    "    'MediaPoluentes',\n",
    "    sum(col(c) for c in poluentes_cols) / len(poluentes_cols)\n",
    ")"
   ]
  },
  {
   "cell_type": "code",
   "execution_count": null,
   "metadata": {},
   "outputs": [
    {
     "name": "stdout",
     "output_type": "stream",
     "text": [
      "Processamento com Spark finalizado.\n",
      "+----------+--------------+------------------+-----------+\n",
      "|      data|        cidade|    MediaPoluentes|QualidadeAr|\n",
      "+----------+--------------+------------------+-----------+\n",
      "|2022-01-01|Belo Horizonte|30.024250000000002|   Moderada|\n",
      "|2022-01-02|Belo Horizonte|29.791000000000004|   Moderada|\n",
      "|2022-01-03|  Porto Alegre|          26.85825|   Moderada|\n",
      "|2022-01-04|Belo Horizonte|          33.40775|   Moderada|\n",
      "|2022-01-05|  Porto Alegre|         33.066375|   Moderada|\n",
      "+----------+--------------+------------------+-----------+\n",
      "only showing top 5 rows\n"
     ]
    }
   ],
   "source": [
    "def classificar_qualidade_ar(media):\n",
    "    if media < 25:\n",
    "        return 'Boa'\n",
    "    elif media < 40:\n",
    "        return 'Moderada'\n",
    "    elif media < 55:\n",
    "        return 'Ruim'\n",
    "    else:\n",
    "        return 'Muito Ruim'\n",
    "\n",
    "classificar_udf = udf(classificar_qualidade_ar, StringType())\n",
    "\n",
    "spark_df_final = spark_df_processed.withColumn(\n",
    "    'QualidadeAr',\n",
    "    classificar_udf(col('MediaPoluentes'))\n",
    ")\n",
    "\n",
    "print(\"Processamento com Spark finalizado.\")\n",
    "spark_df_final.select('data', 'cidade', 'MediaPoluentes', 'QualidadeAr').show(5)"
   ]
  },
  {
   "cell_type": "code",
   "execution_count": null,
   "metadata": {},
   "outputs": [
    {
     "name": "stdout",
     "output_type": "stream",
     "text": [
      "DataFrame convertido para Pandas com 1000 registros.\n"
     ]
    }
   ],
   "source": [
    "df_plotly = spark_df_final.toPandas()\n",
    "\n",
    "df_plotly['data'] = pd.to_datetime(df_plotly['data'])\n",
    "\n",
    "print(f\"DataFrame convertido para Pandas com {len(df_plotly)} registros.\")"
   ]
  },
  {
   "cell_type": "code",
   "execution_count": 22,
   "metadata": {},
   "outputs": [
    {
     "data": {
      "application/vnd.jupyter.widget-view+json": {
       "model_id": "29437edea06044928bf8ba68e7075696",
       "version_major": 2,
       "version_minor": 0
      },
      "text/plain": [
       "VBox(children=(HBox(children=(Dropdown(description='Ano:', options=(np.int32(2022), np.int32(2023), np.int32(2…"
      ]
     },
     "metadata": {},
     "output_type": "display_data"
    }
   ],
   "source": [
    "# ==============================================================================\n",
    "# ESTRATÉGIA FINAL: RECRIAÇÃO COMPLETA DO GRÁFICO A CADA CLIQUE\n",
    "# ==============================================================================\n",
    "\n",
    "# Importações necessárias, incluindo Output e clear_output\n",
    "import plotly.express as px\n",
    "import ipywidgets as widgets\n",
    "from ipywidgets import VBox, HBox\n",
    "from IPython.display import display, clear_output\n",
    "\n",
    "# 1. Preparar o DataFrame e Widgets (sem mudanças)\n",
    "df_plotly['Ano'] = df_plotly['data'].dt.year\n",
    "df_plotly['Mês'] = df_plotly['data'].dt.month\n",
    "anos_disponiveis = sorted(df_plotly['Ano'].unique())\n",
    "meses_disponiveis = sorted(df_plotly['Mês'].unique())\n",
    "\n",
    "year_widget = widgets.Dropdown(options=anos_disponiveis, value=anos_disponiveis[0], description='Ano:')\n",
    "month_widget = widgets.SelectMultiple(options=meses_disponiveis, value=[1, 2, 3], description='Mês(es):')\n",
    "button = widgets.Button(description='Atualizar Gráfico', button_style='primary', icon='check')\n",
    "\n",
    "# 2. NOVO: Criar um 'espaço reservado' (Output widget) para o nosso gráfico\n",
    "# É aqui que o novo gráfico será desenhado a cada clique.\n",
    "output_container = widgets.Output()\n",
    "\n",
    "# 3. Definir a função que será chamada pelo botão\n",
    "def on_button_click_recreate(b):\n",
    "    # Pega os valores dos widgets de seleção\n",
    "    ano = year_widget.value\n",
    "    meses = month_widget.value\n",
    "    \n",
    "    # Filtra os dados\n",
    "    df_filtrado = df_plotly[(df_plotly['Ano'] == ano) & (df_plotly['Mês'].isin(meses))]\n",
    "    \n",
    "    # ...dentro da sua função on_button_click_recreate...\n",
    "\n",
    "    # Cria um GRÁFICO COMPLETAMENTE NOVO com os dados filtrados\n",
    "    novo_grafico = px.line(\n",
    "        df_filtrado,\n",
    "        x='data',\n",
    "        y='MediaPoluentes',\n",
    "        color='cidade',\n",
    "        markers=True,\n",
    "        title=f\"Poluição Diária em {ano}\"\n",
    "    )\n",
    "    \n",
    "    # Aplica o layout e o formato da data ao novo gráfico\n",
    "    novo_grafico.update_layout(\n",
    "        yaxis_title=\"Índice de Média de Poluentes\"\n",
    "    )\n",
    "    novo_grafico.update_xaxes(\n",
    "        title_text=\"Data\",\n",
    "        # --- MUDANÇA AQUI ---\n",
    "        tickformat=\"%b %Y\",  # Formato: Jan 2022, Fev 2022, etc.\n",
    "        rangeslider_visible=False\n",
    "    )\n",
    "    \n",
    "    # Limpa o conteúdo antigo e desenha o novo gráfico\n",
    "    with output_container:\n",
    "        clear_output(wait=True)\n",
    "        display(novo_grafico)\n",
    "\n",
    "# ...o resto do seu código continua igual...\n",
    "\n",
    "# 4. Ligar o botão à nova função de recriação\n",
    "button.on_click(on_button_click_recreate)\n",
    "\n",
    "# 5. Exibir os controles e o 'espaço reservado' do gráfico\n",
    "controles = HBox([year_widget, month_widget])\n",
    "display(VBox([controles, button, output_container]))\n",
    "\n",
    "# 6. Chamar a função uma vez manualmente para desenhar o gráfico inicial\n",
    "on_button_click_recreate(None)"
   ]
  },
  {
   "cell_type": "code",
   "execution_count": 15,
   "metadata": {},
   "outputs": [
    {
     "data": {
      "application/vnd.plotly.v1+json": {
       "config": {
        "plotlyServerURL": "https://plot.ly"
       },
       "data": [
        {
         "hovertemplate": "Qualidade do Ar Classificada=%{x}<br>Média de Casos Respiratórios Diários=%{y}<extra></extra>",
         "legendgroup": "Boa",
         "marker": {
          "color": "#636efa",
          "pattern": {
           "shape": ""
          }
         },
         "name": "Boa",
         "orientation": "v",
         "showlegend": true,
         "textposition": "auto",
         "texttemplate": "%{y:.0f}",
         "type": "bar",
         "x": [
          "Boa"
         ],
         "xaxis": "x",
         "y": {
          "bdata": "/Du47A19XkA=",
          "dtype": "f8"
         },
         "yaxis": "y"
        },
        {
         "hovertemplate": "Qualidade do Ar Classificada=%{x}<br>Média de Casos Respiratórios Diários=%{y}<extra></extra>",
         "legendgroup": "Moderada",
         "marker": {
          "color": "#EF553B",
          "pattern": {
           "shape": ""
          }
         },
         "name": "Moderada",
         "orientation": "v",
         "showlegend": true,
         "textposition": "auto",
         "texttemplate": "%{y:.0f}",
         "type": "bar",
         "x": [
          "Moderada"
         ],
         "xaxis": "x",
         "y": {
          "bdata": "GrxrY2uuYkA=",
          "dtype": "f8"
         },
         "yaxis": "y"
        },
        {
         "hovertemplate": "Qualidade do Ar Classificada=%{x}<br>Média de Casos Respiratórios Diários=%{y}<extra></extra>",
         "legendgroup": "Ruim",
         "marker": {
          "color": "#00cc96",
          "pattern": {
           "shape": ""
          }
         },
         "name": "Ruim",
         "orientation": "v",
         "showlegend": true,
         "textposition": "auto",
         "texttemplate": "%{y:.0f}",
         "type": "bar",
         "x": [
          "Ruim"
         ],
         "xaxis": "x",
         "y": {
          "bdata": "o4suuujyZUA=",
          "dtype": "f8"
         },
         "yaxis": "y"
        }
       ],
       "layout": {
        "barmode": "relative",
        "legend": {
         "title": {
          "text": "Qualidade do Ar Classificada"
         },
         "tracegroupgap": 0
        },
        "template": {
         "data": {
          "bar": [
           {
            "error_x": {
             "color": "#2a3f5f"
            },
            "error_y": {
             "color": "#2a3f5f"
            },
            "marker": {
             "line": {
              "color": "white",
              "width": 0.5
             },
             "pattern": {
              "fillmode": "overlay",
              "size": 10,
              "solidity": 0.2
             }
            },
            "type": "bar"
           }
          ],
          "barpolar": [
           {
            "marker": {
             "line": {
              "color": "white",
              "width": 0.5
             },
             "pattern": {
              "fillmode": "overlay",
              "size": 10,
              "solidity": 0.2
             }
            },
            "type": "barpolar"
           }
          ],
          "carpet": [
           {
            "aaxis": {
             "endlinecolor": "#2a3f5f",
             "gridcolor": "#C8D4E3",
             "linecolor": "#C8D4E3",
             "minorgridcolor": "#C8D4E3",
             "startlinecolor": "#2a3f5f"
            },
            "baxis": {
             "endlinecolor": "#2a3f5f",
             "gridcolor": "#C8D4E3",
             "linecolor": "#C8D4E3",
             "minorgridcolor": "#C8D4E3",
             "startlinecolor": "#2a3f5f"
            },
            "type": "carpet"
           }
          ],
          "choropleth": [
           {
            "colorbar": {
             "outlinewidth": 0,
             "ticks": ""
            },
            "type": "choropleth"
           }
          ],
          "contour": [
           {
            "colorbar": {
             "outlinewidth": 0,
             "ticks": ""
            },
            "colorscale": [
             [
              0,
              "#0d0887"
             ],
             [
              0.1111111111111111,
              "#46039f"
             ],
             [
              0.2222222222222222,
              "#7201a8"
             ],
             [
              0.3333333333333333,
              "#9c179e"
             ],
             [
              0.4444444444444444,
              "#bd3786"
             ],
             [
              0.5555555555555556,
              "#d8576b"
             ],
             [
              0.6666666666666666,
              "#ed7953"
             ],
             [
              0.7777777777777778,
              "#fb9f3a"
             ],
             [
              0.8888888888888888,
              "#fdca26"
             ],
             [
              1,
              "#f0f921"
             ]
            ],
            "type": "contour"
           }
          ],
          "contourcarpet": [
           {
            "colorbar": {
             "outlinewidth": 0,
             "ticks": ""
            },
            "type": "contourcarpet"
           }
          ],
          "heatmap": [
           {
            "colorbar": {
             "outlinewidth": 0,
             "ticks": ""
            },
            "colorscale": [
             [
              0,
              "#0d0887"
             ],
             [
              0.1111111111111111,
              "#46039f"
             ],
             [
              0.2222222222222222,
              "#7201a8"
             ],
             [
              0.3333333333333333,
              "#9c179e"
             ],
             [
              0.4444444444444444,
              "#bd3786"
             ],
             [
              0.5555555555555556,
              "#d8576b"
             ],
             [
              0.6666666666666666,
              "#ed7953"
             ],
             [
              0.7777777777777778,
              "#fb9f3a"
             ],
             [
              0.8888888888888888,
              "#fdca26"
             ],
             [
              1,
              "#f0f921"
             ]
            ],
            "type": "heatmap"
           }
          ],
          "histogram": [
           {
            "marker": {
             "pattern": {
              "fillmode": "overlay",
              "size": 10,
              "solidity": 0.2
             }
            },
            "type": "histogram"
           }
          ],
          "histogram2d": [
           {
            "colorbar": {
             "outlinewidth": 0,
             "ticks": ""
            },
            "colorscale": [
             [
              0,
              "#0d0887"
             ],
             [
              0.1111111111111111,
              "#46039f"
             ],
             [
              0.2222222222222222,
              "#7201a8"
             ],
             [
              0.3333333333333333,
              "#9c179e"
             ],
             [
              0.4444444444444444,
              "#bd3786"
             ],
             [
              0.5555555555555556,
              "#d8576b"
             ],
             [
              0.6666666666666666,
              "#ed7953"
             ],
             [
              0.7777777777777778,
              "#fb9f3a"
             ],
             [
              0.8888888888888888,
              "#fdca26"
             ],
             [
              1,
              "#f0f921"
             ]
            ],
            "type": "histogram2d"
           }
          ],
          "histogram2dcontour": [
           {
            "colorbar": {
             "outlinewidth": 0,
             "ticks": ""
            },
            "colorscale": [
             [
              0,
              "#0d0887"
             ],
             [
              0.1111111111111111,
              "#46039f"
             ],
             [
              0.2222222222222222,
              "#7201a8"
             ],
             [
              0.3333333333333333,
              "#9c179e"
             ],
             [
              0.4444444444444444,
              "#bd3786"
             ],
             [
              0.5555555555555556,
              "#d8576b"
             ],
             [
              0.6666666666666666,
              "#ed7953"
             ],
             [
              0.7777777777777778,
              "#fb9f3a"
             ],
             [
              0.8888888888888888,
              "#fdca26"
             ],
             [
              1,
              "#f0f921"
             ]
            ],
            "type": "histogram2dcontour"
           }
          ],
          "mesh3d": [
           {
            "colorbar": {
             "outlinewidth": 0,
             "ticks": ""
            },
            "type": "mesh3d"
           }
          ],
          "parcoords": [
           {
            "line": {
             "colorbar": {
              "outlinewidth": 0,
              "ticks": ""
             }
            },
            "type": "parcoords"
           }
          ],
          "pie": [
           {
            "automargin": true,
            "type": "pie"
           }
          ],
          "scatter": [
           {
            "fillpattern": {
             "fillmode": "overlay",
             "size": 10,
             "solidity": 0.2
            },
            "type": "scatter"
           }
          ],
          "scatter3d": [
           {
            "line": {
             "colorbar": {
              "outlinewidth": 0,
              "ticks": ""
             }
            },
            "marker": {
             "colorbar": {
              "outlinewidth": 0,
              "ticks": ""
             }
            },
            "type": "scatter3d"
           }
          ],
          "scattercarpet": [
           {
            "marker": {
             "colorbar": {
              "outlinewidth": 0,
              "ticks": ""
             }
            },
            "type": "scattercarpet"
           }
          ],
          "scattergeo": [
           {
            "marker": {
             "colorbar": {
              "outlinewidth": 0,
              "ticks": ""
             }
            },
            "type": "scattergeo"
           }
          ],
          "scattergl": [
           {
            "marker": {
             "colorbar": {
              "outlinewidth": 0,
              "ticks": ""
             }
            },
            "type": "scattergl"
           }
          ],
          "scattermap": [
           {
            "marker": {
             "colorbar": {
              "outlinewidth": 0,
              "ticks": ""
             }
            },
            "type": "scattermap"
           }
          ],
          "scattermapbox": [
           {
            "marker": {
             "colorbar": {
              "outlinewidth": 0,
              "ticks": ""
             }
            },
            "type": "scattermapbox"
           }
          ],
          "scatterpolar": [
           {
            "marker": {
             "colorbar": {
              "outlinewidth": 0,
              "ticks": ""
             }
            },
            "type": "scatterpolar"
           }
          ],
          "scatterpolargl": [
           {
            "marker": {
             "colorbar": {
              "outlinewidth": 0,
              "ticks": ""
             }
            },
            "type": "scatterpolargl"
           }
          ],
          "scatterternary": [
           {
            "marker": {
             "colorbar": {
              "outlinewidth": 0,
              "ticks": ""
             }
            },
            "type": "scatterternary"
           }
          ],
          "surface": [
           {
            "colorbar": {
             "outlinewidth": 0,
             "ticks": ""
            },
            "colorscale": [
             [
              0,
              "#0d0887"
             ],
             [
              0.1111111111111111,
              "#46039f"
             ],
             [
              0.2222222222222222,
              "#7201a8"
             ],
             [
              0.3333333333333333,
              "#9c179e"
             ],
             [
              0.4444444444444444,
              "#bd3786"
             ],
             [
              0.5555555555555556,
              "#d8576b"
             ],
             [
              0.6666666666666666,
              "#ed7953"
             ],
             [
              0.7777777777777778,
              "#fb9f3a"
             ],
             [
              0.8888888888888888,
              "#fdca26"
             ],
             [
              1,
              "#f0f921"
             ]
            ],
            "type": "surface"
           }
          ],
          "table": [
           {
            "cells": {
             "fill": {
              "color": "#EBF0F8"
             },
             "line": {
              "color": "white"
             }
            },
            "header": {
             "fill": {
              "color": "#C8D4E3"
             },
             "line": {
              "color": "white"
             }
            },
            "type": "table"
           }
          ]
         },
         "layout": {
          "annotationdefaults": {
           "arrowcolor": "#2a3f5f",
           "arrowhead": 0,
           "arrowwidth": 1
          },
          "autotypenumbers": "strict",
          "coloraxis": {
           "colorbar": {
            "outlinewidth": 0,
            "ticks": ""
           }
          },
          "colorscale": {
           "diverging": [
            [
             0,
             "#8e0152"
            ],
            [
             0.1,
             "#c51b7d"
            ],
            [
             0.2,
             "#de77ae"
            ],
            [
             0.3,
             "#f1b6da"
            ],
            [
             0.4,
             "#fde0ef"
            ],
            [
             0.5,
             "#f7f7f7"
            ],
            [
             0.6,
             "#e6f5d0"
            ],
            [
             0.7,
             "#b8e186"
            ],
            [
             0.8,
             "#7fbc41"
            ],
            [
             0.9,
             "#4d9221"
            ],
            [
             1,
             "#276419"
            ]
           ],
           "sequential": [
            [
             0,
             "#0d0887"
            ],
            [
             0.1111111111111111,
             "#46039f"
            ],
            [
             0.2222222222222222,
             "#7201a8"
            ],
            [
             0.3333333333333333,
             "#9c179e"
            ],
            [
             0.4444444444444444,
             "#bd3786"
            ],
            [
             0.5555555555555556,
             "#d8576b"
            ],
            [
             0.6666666666666666,
             "#ed7953"
            ],
            [
             0.7777777777777778,
             "#fb9f3a"
            ],
            [
             0.8888888888888888,
             "#fdca26"
            ],
            [
             1,
             "#f0f921"
            ]
           ],
           "sequentialminus": [
            [
             0,
             "#0d0887"
            ],
            [
             0.1111111111111111,
             "#46039f"
            ],
            [
             0.2222222222222222,
             "#7201a8"
            ],
            [
             0.3333333333333333,
             "#9c179e"
            ],
            [
             0.4444444444444444,
             "#bd3786"
            ],
            [
             0.5555555555555556,
             "#d8576b"
            ],
            [
             0.6666666666666666,
             "#ed7953"
            ],
            [
             0.7777777777777778,
             "#fb9f3a"
            ],
            [
             0.8888888888888888,
             "#fdca26"
            ],
            [
             1,
             "#f0f921"
            ]
           ]
          },
          "colorway": [
           "#636efa",
           "#EF553B",
           "#00cc96",
           "#ab63fa",
           "#FFA15A",
           "#19d3f3",
           "#FF6692",
           "#B6E880",
           "#FF97FF",
           "#FECB52"
          ],
          "font": {
           "color": "#2a3f5f"
          },
          "geo": {
           "bgcolor": "white",
           "lakecolor": "white",
           "landcolor": "white",
           "showlakes": true,
           "showland": true,
           "subunitcolor": "#C8D4E3"
          },
          "hoverlabel": {
           "align": "left"
          },
          "hovermode": "closest",
          "mapbox": {
           "style": "light"
          },
          "paper_bgcolor": "white",
          "plot_bgcolor": "white",
          "polar": {
           "angularaxis": {
            "gridcolor": "#EBF0F8",
            "linecolor": "#EBF0F8",
            "ticks": ""
           },
           "bgcolor": "white",
           "radialaxis": {
            "gridcolor": "#EBF0F8",
            "linecolor": "#EBF0F8",
            "ticks": ""
           }
          },
          "scene": {
           "xaxis": {
            "backgroundcolor": "white",
            "gridcolor": "#DFE8F3",
            "gridwidth": 2,
            "linecolor": "#EBF0F8",
            "showbackground": true,
            "ticks": "",
            "zerolinecolor": "#EBF0F8"
           },
           "yaxis": {
            "backgroundcolor": "white",
            "gridcolor": "#DFE8F3",
            "gridwidth": 2,
            "linecolor": "#EBF0F8",
            "showbackground": true,
            "ticks": "",
            "zerolinecolor": "#EBF0F8"
           },
           "zaxis": {
            "backgroundcolor": "white",
            "gridcolor": "#DFE8F3",
            "gridwidth": 2,
            "linecolor": "#EBF0F8",
            "showbackground": true,
            "ticks": "",
            "zerolinecolor": "#EBF0F8"
           }
          },
          "shapedefaults": {
           "line": {
            "color": "#2a3f5f"
           }
          },
          "ternary": {
           "aaxis": {
            "gridcolor": "#DFE8F3",
            "linecolor": "#A2B1C6",
            "ticks": ""
           },
           "baxis": {
            "gridcolor": "#DFE8F3",
            "linecolor": "#A2B1C6",
            "ticks": ""
           },
           "bgcolor": "white",
           "caxis": {
            "gridcolor": "#DFE8F3",
            "linecolor": "#A2B1C6",
            "ticks": ""
           }
          },
          "title": {
           "x": 0.05
          },
          "xaxis": {
           "automargin": true,
           "gridcolor": "#EBF0F8",
           "linecolor": "#EBF0F8",
           "ticks": "",
           "title": {
            "standoff": 15
           },
           "zerolinecolor": "#EBF0F8",
           "zerolinewidth": 2
          },
          "yaxis": {
           "automargin": true,
           "gridcolor": "#EBF0F8",
           "linecolor": "#EBF0F8",
           "ticks": "",
           "title": {
            "standoff": 15
           },
           "zerolinecolor": "#EBF0F8",
           "zerolinewidth": 2
          }
         }
        },
        "title": {
         "text": "<b>Média de Casos Respiratórios por Nível de Qualidade do Ar</b><br><sup>Qualidade do Ar (Média de Poluentes) -> Boa: <25 | Moderada: 25-40 | Ruim: 40-55 | Muito Ruim: >55</sup>"
        },
        "xaxis": {
         "anchor": "y",
         "categoryarray": [
          "Boa",
          "Moderada",
          "Ruim",
          "Muito Ruim"
         ],
         "categoryorder": "array",
         "domain": [
          0,
          1
         ],
         "title": {
          "text": "Qualidade do Ar Classificada"
         }
        },
        "yaxis": {
         "anchor": "x",
         "domain": [
          0,
          1
         ],
         "title": {
          "text": "Média de Casos Respiratórios Diários"
         }
        }
       }
      }
     },
     "metadata": {},
     "output_type": "display_data"
    }
   ],
   "source": [
    "# --- GRÁFICO 2: COM LEGENDA DE QUALIDADE DO AR ---\n",
    "\n",
    "legenda_texto = \"Qualidade do Ar (Média de Poluentes) -> Boa: <25 | Moderada: 25-40 | Ruim: 40-55 | Muito Ruim: >55\"\n",
    "\n",
    "df_agregado = df_plotly.groupby('QualidadeAr')['casos_problemas_respiratorios'].mean().reset_index()\n",
    "\n",
    "fig2_barras = px.bar(\n",
    "    df_agregado,\n",
    "    x='QualidadeAr',\n",
    "    y='casos_problemas_respiratorios',\n",
    "    color='QualidadeAr',\n",
    "    text_auto='.0f',\n",
    "    category_orders={'QualidadeAr': ['Boa', 'Moderada', 'Ruim', 'Muito Ruim']}, \n",
    "    \n",
    "    # Adicionamos a legenda ao título usando a tag <br> para quebra de linha\n",
    "    title=f\"<b>Média de Casos Respiratórios por Nível de Qualidade do Ar</b><br><sup>{legenda_texto}</sup>\", # <--- MUDANÇA AQUI\n",
    "    \n",
    "    labels={\n",
    "        'QualidadeAr': 'Qualidade do Ar Classificada', \n",
    "        'casos_problemas_respiratorios': 'Média de Casos Respiratórios Diários'\n",
    "    },\n",
    "    template='plotly_white'\n",
    ")\n",
    "\n",
    "fig2_barras.show()"
   ]
  },
  {
   "cell_type": "code",
   "execution_count": 8,
   "metadata": {},
   "outputs": [
    {
     "data": {
      "application/vnd.plotly.v1+json": {
       "config": {
        "plotlyServerURL": "https://plot.ly"
       },
       "data": [
        {
         "hovertemplate": "Qualidade do Ar=%{x}<br>cidade=Belo Horizonte<br>count=%{y}<extra></extra>",
         "legendgroup": "Boa",
         "marker": {
          "color": "#636efa",
          "pattern": {
           "shape": ""
          }
         },
         "name": "Boa",
         "orientation": "v",
         "showlegend": true,
         "textposition": "auto",
         "type": "bar",
         "x": [
          "Boa",
          "Boa",
          "Boa",
          "Boa",
          "Boa",
          "Boa",
          "Boa",
          "Boa",
          "Boa",
          "Boa",
          "Boa",
          "Boa",
          "Boa",
          "Boa",
          "Boa",
          "Boa",
          "Boa",
          "Boa",
          "Boa",
          "Boa",
          "Boa",
          "Boa",
          "Boa",
          "Boa",
          "Boa",
          "Boa",
          "Boa",
          "Boa",
          "Boa",
          "Boa",
          "Boa",
          "Boa",
          "Boa",
          "Boa",
          "Boa",
          "Boa",
          "Boa",
          "Boa",
          "Boa",
          "Boa",
          "Boa",
          "Boa",
          "Boa",
          "Boa",
          "Boa",
          "Boa",
          "Boa",
          "Boa",
          "Boa",
          "Boa",
          "Boa",
          "Boa",
          "Boa",
          "Boa",
          "Boa",
          "Boa",
          "Boa",
          "Boa",
          "Boa",
          "Boa",
          "Boa",
          "Boa",
          "Boa",
          "Boa",
          "Boa",
          "Boa",
          "Boa",
          "Boa",
          "Boa",
          "Boa",
          "Boa",
          "Boa",
          "Boa",
          "Boa",
          "Boa",
          "Boa",
          "Boa",
          "Boa",
          "Boa",
          "Boa",
          "Boa",
          "Boa",
          "Boa",
          "Boa"
         ],
         "xaxis": "x",
         "y": {
          "bdata": "AQEBAQEBAQEBAQEBAQEBAQEBAQEBAQEBAQEBAQEBAQEBAQEBAQEBAQEBAQEBAQEBAQEBAQEBAQEBAQEBAQEBAQEBAQEBAQEBAQEBAQEBAQEBAQEB",
          "dtype": "i1"
         },
         "yaxis": "y"
        },
        {
         "hovertemplate": "Qualidade do Ar=%{x}<br>cidade=Porto Alegre<br>count=%{y}<extra></extra>",
         "legendgroup": "Boa",
         "marker": {
          "color": "#636efa",
          "pattern": {
           "shape": ""
          }
         },
         "name": "Boa",
         "orientation": "v",
         "showlegend": false,
         "textposition": "auto",
         "type": "bar",
         "x": [
          "Boa",
          "Boa",
          "Boa",
          "Boa",
          "Boa",
          "Boa",
          "Boa",
          "Boa",
          "Boa",
          "Boa",
          "Boa",
          "Boa",
          "Boa",
          "Boa",
          "Boa",
          "Boa",
          "Boa",
          "Boa",
          "Boa",
          "Boa",
          "Boa",
          "Boa",
          "Boa",
          "Boa",
          "Boa",
          "Boa",
          "Boa",
          "Boa",
          "Boa",
          "Boa",
          "Boa",
          "Boa",
          "Boa",
          "Boa",
          "Boa",
          "Boa",
          "Boa",
          "Boa",
          "Boa",
          "Boa",
          "Boa",
          "Boa",
          "Boa",
          "Boa",
          "Boa",
          "Boa",
          "Boa",
          "Boa",
          "Boa",
          "Boa",
          "Boa",
          "Boa",
          "Boa",
          "Boa",
          "Boa",
          "Boa",
          "Boa",
          "Boa",
          "Boa",
          "Boa",
          "Boa",
          "Boa",
          "Boa",
          "Boa",
          "Boa",
          "Boa",
          "Boa",
          "Boa",
          "Boa",
          "Boa",
          "Boa",
          "Boa",
          "Boa",
          "Boa",
          "Boa",
          "Boa",
          "Boa",
          "Boa",
          "Boa",
          "Boa",
          "Boa",
          "Boa",
          "Boa",
          "Boa",
          "Boa",
          "Boa",
          "Boa",
          "Boa",
          "Boa",
          "Boa",
          "Boa",
          "Boa",
          "Boa",
          "Boa",
          "Boa",
          "Boa",
          "Boa"
         ],
         "xaxis": "x2",
         "y": {
          "bdata": "AQEBAQEBAQEBAQEBAQEBAQEBAQEBAQEBAQEBAQEBAQEBAQEBAQEBAQEBAQEBAQEBAQEBAQEBAQEBAQEBAQEBAQEBAQEBAQEBAQEBAQEBAQEBAQEBAQEBAQEBAQEBAQEBAQ==",
          "dtype": "i1"
         },
         "yaxis": "y2"
        },
        {
         "hovertemplate": "Qualidade do Ar=%{x}<br>cidade=Rio de Janeiro<br>count=%{y}<extra></extra>",
         "legendgroup": "Boa",
         "marker": {
          "color": "#636efa",
          "pattern": {
           "shape": ""
          }
         },
         "name": "Boa",
         "orientation": "v",
         "showlegend": false,
         "textposition": "auto",
         "type": "bar",
         "x": [
          "Boa",
          "Boa",
          "Boa",
          "Boa",
          "Boa",
          "Boa",
          "Boa",
          "Boa",
          "Boa",
          "Boa",
          "Boa",
          "Boa",
          "Boa",
          "Boa",
          "Boa",
          "Boa",
          "Boa",
          "Boa",
          "Boa",
          "Boa",
          "Boa",
          "Boa",
          "Boa",
          "Boa",
          "Boa",
          "Boa",
          "Boa",
          "Boa",
          "Boa",
          "Boa",
          "Boa",
          "Boa",
          "Boa",
          "Boa",
          "Boa",
          "Boa",
          "Boa",
          "Boa",
          "Boa",
          "Boa",
          "Boa",
          "Boa",
          "Boa",
          "Boa",
          "Boa",
          "Boa",
          "Boa",
          "Boa",
          "Boa",
          "Boa",
          "Boa",
          "Boa",
          "Boa",
          "Boa",
          "Boa",
          "Boa",
          "Boa",
          "Boa",
          "Boa",
          "Boa",
          "Boa",
          "Boa",
          "Boa",
          "Boa",
          "Boa",
          "Boa",
          "Boa",
          "Boa",
          "Boa",
          "Boa"
         ],
         "xaxis": "x3",
         "y": {
          "bdata": "AQEBAQEBAQEBAQEBAQEBAQEBAQEBAQEBAQEBAQEBAQEBAQEBAQEBAQEBAQEBAQEBAQEBAQEBAQEBAQEBAQEBAQEBAQEBAQ==",
          "dtype": "i1"
         },
         "yaxis": "y3"
        },
        {
         "hovertemplate": "Qualidade do Ar=%{x}<br>cidade=Belo Horizonte<br>count=%{y}<extra></extra>",
         "legendgroup": "Moderada",
         "marker": {
          "color": "#EF553B",
          "pattern": {
           "shape": ""
          }
         },
         "name": "Moderada",
         "orientation": "v",
         "showlegend": true,
         "textposition": "auto",
         "type": "bar",
         "x": [
          "Moderada",
          "Moderada",
          "Moderada",
          "Moderada",
          "Moderada",
          "Moderada",
          "Moderada",
          "Moderada",
          "Moderada",
          "Moderada",
          "Moderada",
          "Moderada",
          "Moderada",
          "Moderada",
          "Moderada",
          "Moderada",
          "Moderada",
          "Moderada",
          "Moderada",
          "Moderada",
          "Moderada",
          "Moderada",
          "Moderada",
          "Moderada",
          "Moderada",
          "Moderada",
          "Moderada",
          "Moderada",
          "Moderada",
          "Moderada",
          "Moderada",
          "Moderada",
          "Moderada",
          "Moderada",
          "Moderada",
          "Moderada",
          "Moderada",
          "Moderada",
          "Moderada",
          "Moderada",
          "Moderada",
          "Moderada",
          "Moderada",
          "Moderada",
          "Moderada",
          "Moderada",
          "Moderada",
          "Moderada",
          "Moderada",
          "Moderada",
          "Moderada",
          "Moderada",
          "Moderada",
          "Moderada",
          "Moderada",
          "Moderada",
          "Moderada",
          "Moderada",
          "Moderada",
          "Moderada",
          "Moderada",
          "Moderada",
          "Moderada",
          "Moderada",
          "Moderada",
          "Moderada",
          "Moderada",
          "Moderada",
          "Moderada",
          "Moderada",
          "Moderada",
          "Moderada",
          "Moderada",
          "Moderada",
          "Moderada",
          "Moderada",
          "Moderada",
          "Moderada",
          "Moderada",
          "Moderada",
          "Moderada",
          "Moderada",
          "Moderada",
          "Moderada",
          "Moderada",
          "Moderada",
          "Moderada",
          "Moderada",
          "Moderada",
          "Moderada",
          "Moderada",
          "Moderada",
          "Moderada",
          "Moderada",
          "Moderada",
          "Moderada",
          "Moderada",
          "Moderada",
          "Moderada",
          "Moderada",
          "Moderada",
          "Moderada",
          "Moderada",
          "Moderada",
          "Moderada",
          "Moderada",
          "Moderada",
          "Moderada",
          "Moderada",
          "Moderada",
          "Moderada",
          "Moderada",
          "Moderada",
          "Moderada",
          "Moderada",
          "Moderada",
          "Moderada",
          "Moderada",
          "Moderada",
          "Moderada",
          "Moderada",
          "Moderada",
          "Moderada",
          "Moderada",
          "Moderada",
          "Moderada",
          "Moderada",
          "Moderada",
          "Moderada",
          "Moderada",
          "Moderada",
          "Moderada",
          "Moderada",
          "Moderada",
          "Moderada",
          "Moderada",
          "Moderada",
          "Moderada",
          "Moderada",
          "Moderada",
          "Moderada",
          "Moderada",
          "Moderada",
          "Moderada",
          "Moderada",
          "Moderada",
          "Moderada",
          "Moderada",
          "Moderada",
          "Moderada",
          "Moderada",
          "Moderada",
          "Moderada",
          "Moderada",
          "Moderada",
          "Moderada",
          "Moderada",
          "Moderada",
          "Moderada",
          "Moderada",
          "Moderada",
          "Moderada",
          "Moderada",
          "Moderada",
          "Moderada",
          "Moderada",
          "Moderada",
          "Moderada",
          "Moderada",
          "Moderada",
          "Moderada",
          "Moderada",
          "Moderada",
          "Moderada",
          "Moderada",
          "Moderada",
          "Moderada",
          "Moderada",
          "Moderada",
          "Moderada",
          "Moderada",
          "Moderada",
          "Moderada",
          "Moderada",
          "Moderada",
          "Moderada",
          "Moderada",
          "Moderada",
          "Moderada",
          "Moderada",
          "Moderada",
          "Moderada",
          "Moderada",
          "Moderada",
          "Moderada",
          "Moderada",
          "Moderada",
          "Moderada",
          "Moderada",
          "Moderada",
          "Moderada",
          "Moderada",
          "Moderada",
          "Moderada",
          "Moderada",
          "Moderada",
          "Moderada",
          "Moderada",
          "Moderada",
          "Moderada",
          "Moderada",
          "Moderada",
          "Moderada",
          "Moderada",
          "Moderada",
          "Moderada",
          "Moderada",
          "Moderada",
          "Moderada",
          "Moderada"
         ],
         "xaxis": "x",
         "y": {
          "bdata": "AQEBAQEBAQEBAQEBAQEBAQEBAQEBAQEBAQEBAQEBAQEBAQEBAQEBAQEBAQEBAQEBAQEBAQEBAQEBAQEBAQEBAQEBAQEBAQEBAQEBAQEBAQEBAQEBAQEBAQEBAQEBAQEBAQEBAQEBAQEBAQEBAQEBAQEBAQEBAQEBAQEBAQEBAQEBAQEBAQEBAQEBAQEBAQEBAQEBAQEBAQEBAQEBAQEBAQEBAQEBAQEBAQEBAQEBAQEBAQEBAQEBAQEBAQEBAQEBAQEBAQEBAQEBAQEBAQEBAQEBAQEBAQEBAQEBAQ==",
          "dtype": "i1"
         },
         "yaxis": "y"
        },
        {
         "hovertemplate": "Qualidade do Ar=%{x}<br>cidade=Porto Alegre<br>count=%{y}<extra></extra>",
         "legendgroup": "Moderada",
         "marker": {
          "color": "#EF553B",
          "pattern": {
           "shape": ""
          }
         },
         "name": "Moderada",
         "orientation": "v",
         "showlegend": false,
         "textposition": "auto",
         "type": "bar",
         "x": [
          "Moderada",
          "Moderada",
          "Moderada",
          "Moderada",
          "Moderada",
          "Moderada",
          "Moderada",
          "Moderada",
          "Moderada",
          "Moderada",
          "Moderada",
          "Moderada",
          "Moderada",
          "Moderada",
          "Moderada",
          "Moderada",
          "Moderada",
          "Moderada",
          "Moderada",
          "Moderada",
          "Moderada",
          "Moderada",
          "Moderada",
          "Moderada",
          "Moderada",
          "Moderada",
          "Moderada",
          "Moderada",
          "Moderada",
          "Moderada",
          "Moderada",
          "Moderada",
          "Moderada",
          "Moderada",
          "Moderada",
          "Moderada",
          "Moderada",
          "Moderada",
          "Moderada",
          "Moderada",
          "Moderada",
          "Moderada",
          "Moderada",
          "Moderada",
          "Moderada",
          "Moderada",
          "Moderada",
          "Moderada",
          "Moderada",
          "Moderada",
          "Moderada",
          "Moderada",
          "Moderada",
          "Moderada",
          "Moderada",
          "Moderada",
          "Moderada",
          "Moderada",
          "Moderada",
          "Moderada",
          "Moderada",
          "Moderada",
          "Moderada",
          "Moderada",
          "Moderada",
          "Moderada",
          "Moderada",
          "Moderada",
          "Moderada",
          "Moderada",
          "Moderada",
          "Moderada",
          "Moderada",
          "Moderada",
          "Moderada",
          "Moderada",
          "Moderada",
          "Moderada",
          "Moderada",
          "Moderada",
          "Moderada",
          "Moderada",
          "Moderada",
          "Moderada",
          "Moderada",
          "Moderada",
          "Moderada",
          "Moderada",
          "Moderada",
          "Moderada",
          "Moderada",
          "Moderada",
          "Moderada",
          "Moderada",
          "Moderada",
          "Moderada",
          "Moderada",
          "Moderada",
          "Moderada",
          "Moderada",
          "Moderada",
          "Moderada",
          "Moderada",
          "Moderada",
          "Moderada",
          "Moderada",
          "Moderada",
          "Moderada",
          "Moderada",
          "Moderada",
          "Moderada",
          "Moderada",
          "Moderada",
          "Moderada",
          "Moderada",
          "Moderada",
          "Moderada",
          "Moderada",
          "Moderada",
          "Moderada",
          "Moderada",
          "Moderada",
          "Moderada",
          "Moderada",
          "Moderada",
          "Moderada",
          "Moderada",
          "Moderada",
          "Moderada",
          "Moderada",
          "Moderada",
          "Moderada",
          "Moderada",
          "Moderada",
          "Moderada",
          "Moderada",
          "Moderada",
          "Moderada",
          "Moderada",
          "Moderada",
          "Moderada",
          "Moderada",
          "Moderada",
          "Moderada",
          "Moderada",
          "Moderada",
          "Moderada",
          "Moderada",
          "Moderada",
          "Moderada",
          "Moderada",
          "Moderada",
          "Moderada",
          "Moderada",
          "Moderada",
          "Moderada",
          "Moderada",
          "Moderada",
          "Moderada",
          "Moderada",
          "Moderada",
          "Moderada",
          "Moderada",
          "Moderada",
          "Moderada",
          "Moderada",
          "Moderada",
          "Moderada",
          "Moderada",
          "Moderada",
          "Moderada",
          "Moderada",
          "Moderada",
          "Moderada",
          "Moderada",
          "Moderada",
          "Moderada",
          "Moderada",
          "Moderada",
          "Moderada",
          "Moderada",
          "Moderada",
          "Moderada",
          "Moderada",
          "Moderada",
          "Moderada",
          "Moderada",
          "Moderada",
          "Moderada",
          "Moderada",
          "Moderada",
          "Moderada",
          "Moderada",
          "Moderada",
          "Moderada",
          "Moderada",
          "Moderada",
          "Moderada",
          "Moderada",
          "Moderada",
          "Moderada",
          "Moderada",
          "Moderada",
          "Moderada",
          "Moderada",
          "Moderada",
          "Moderada",
          "Moderada",
          "Moderada",
          "Moderada",
          "Moderada",
          "Moderada",
          "Moderada",
          "Moderada",
          "Moderada",
          "Moderada",
          "Moderada",
          "Moderada",
          "Moderada",
          "Moderada",
          "Moderada",
          "Moderada",
          "Moderada",
          "Moderada",
          "Moderada",
          "Moderada",
          "Moderada",
          "Moderada",
          "Moderada",
          "Moderada",
          "Moderada",
          "Moderada",
          "Moderada",
          "Moderada",
          "Moderada",
          "Moderada",
          "Moderada",
          "Moderada",
          "Moderada",
          "Moderada",
          "Moderada",
          "Moderada",
          "Moderada",
          "Moderada",
          "Moderada",
          "Moderada",
          "Moderada",
          "Moderada",
          "Moderada",
          "Moderada",
          "Moderada",
          "Moderada",
          "Moderada",
          "Moderada",
          "Moderada",
          "Moderada",
          "Moderada",
          "Moderada",
          "Moderada"
         ],
         "xaxis": "x2",
         "y": {
          "bdata": "AQEBAQEBAQEBAQEBAQEBAQEBAQEBAQEBAQEBAQEBAQEBAQEBAQEBAQEBAQEBAQEBAQEBAQEBAQEBAQEBAQEBAQEBAQEBAQEBAQEBAQEBAQEBAQEBAQEBAQEBAQEBAQEBAQEBAQEBAQEBAQEBAQEBAQEBAQEBAQEBAQEBAQEBAQEBAQEBAQEBAQEBAQEBAQEBAQEBAQEBAQEBAQEBAQEBAQEBAQEBAQEBAQEBAQEBAQEBAQEBAQEBAQEBAQEBAQEBAQEBAQEBAQEBAQEBAQEBAQEBAQEBAQEBAQEBAQEBAQEBAQEBAQEBAQEBAQEBAQEBAQEBAQEBAQEBAQEBAQEBAQEBAQ==",
          "dtype": "i1"
         },
         "yaxis": "y2"
        },
        {
         "hovertemplate": "Qualidade do Ar=%{x}<br>cidade=Rio de Janeiro<br>count=%{y}<extra></extra>",
         "legendgroup": "Moderada",
         "marker": {
          "color": "#EF553B",
          "pattern": {
           "shape": ""
          }
         },
         "name": "Moderada",
         "orientation": "v",
         "showlegend": false,
         "textposition": "auto",
         "type": "bar",
         "x": [
          "Moderada",
          "Moderada",
          "Moderada",
          "Moderada",
          "Moderada",
          "Moderada",
          "Moderada",
          "Moderada",
          "Moderada",
          "Moderada",
          "Moderada",
          "Moderada",
          "Moderada",
          "Moderada",
          "Moderada",
          "Moderada",
          "Moderada",
          "Moderada",
          "Moderada",
          "Moderada",
          "Moderada",
          "Moderada",
          "Moderada",
          "Moderada",
          "Moderada",
          "Moderada",
          "Moderada",
          "Moderada",
          "Moderada",
          "Moderada",
          "Moderada",
          "Moderada",
          "Moderada",
          "Moderada",
          "Moderada",
          "Moderada",
          "Moderada",
          "Moderada",
          "Moderada",
          "Moderada",
          "Moderada",
          "Moderada",
          "Moderada",
          "Moderada",
          "Moderada",
          "Moderada",
          "Moderada",
          "Moderada",
          "Moderada",
          "Moderada",
          "Moderada",
          "Moderada",
          "Moderada",
          "Moderada",
          "Moderada",
          "Moderada",
          "Moderada",
          "Moderada",
          "Moderada",
          "Moderada",
          "Moderada",
          "Moderada",
          "Moderada",
          "Moderada",
          "Moderada",
          "Moderada",
          "Moderada",
          "Moderada",
          "Moderada",
          "Moderada",
          "Moderada",
          "Moderada",
          "Moderada",
          "Moderada",
          "Moderada",
          "Moderada",
          "Moderada",
          "Moderada",
          "Moderada",
          "Moderada",
          "Moderada",
          "Moderada",
          "Moderada",
          "Moderada",
          "Moderada",
          "Moderada",
          "Moderada",
          "Moderada",
          "Moderada",
          "Moderada",
          "Moderada",
          "Moderada",
          "Moderada",
          "Moderada",
          "Moderada",
          "Moderada",
          "Moderada",
          "Moderada",
          "Moderada",
          "Moderada",
          "Moderada",
          "Moderada",
          "Moderada",
          "Moderada",
          "Moderada",
          "Moderada",
          "Moderada",
          "Moderada",
          "Moderada",
          "Moderada",
          "Moderada",
          "Moderada",
          "Moderada",
          "Moderada",
          "Moderada",
          "Moderada",
          "Moderada",
          "Moderada",
          "Moderada",
          "Moderada",
          "Moderada",
          "Moderada",
          "Moderada",
          "Moderada",
          "Moderada",
          "Moderada",
          "Moderada",
          "Moderada",
          "Moderada",
          "Moderada",
          "Moderada",
          "Moderada",
          "Moderada",
          "Moderada",
          "Moderada",
          "Moderada",
          "Moderada",
          "Moderada",
          "Moderada",
          "Moderada",
          "Moderada",
          "Moderada",
          "Moderada",
          "Moderada",
          "Moderada",
          "Moderada",
          "Moderada",
          "Moderada",
          "Moderada",
          "Moderada",
          "Moderada",
          "Moderada",
          "Moderada",
          "Moderada",
          "Moderada",
          "Moderada",
          "Moderada",
          "Moderada",
          "Moderada",
          "Moderada",
          "Moderada",
          "Moderada",
          "Moderada",
          "Moderada",
          "Moderada",
          "Moderada",
          "Moderada",
          "Moderada",
          "Moderada",
          "Moderada",
          "Moderada",
          "Moderada",
          "Moderada",
          "Moderada",
          "Moderada",
          "Moderada",
          "Moderada",
          "Moderada",
          "Moderada",
          "Moderada",
          "Moderada",
          "Moderada",
          "Moderada",
          "Moderada",
          "Moderada",
          "Moderada",
          "Moderada",
          "Moderada",
          "Moderada",
          "Moderada",
          "Moderada",
          "Moderada",
          "Moderada",
          "Moderada",
          "Moderada",
          "Moderada",
          "Moderada",
          "Moderada",
          "Moderada",
          "Moderada",
          "Moderada",
          "Moderada",
          "Moderada",
          "Moderada",
          "Moderada",
          "Moderada",
          "Moderada",
          "Moderada",
          "Moderada",
          "Moderada",
          "Moderada",
          "Moderada",
          "Moderada",
          "Moderada",
          "Moderada",
          "Moderada",
          "Moderada",
          "Moderada",
          "Moderada",
          "Moderada",
          "Moderada",
          "Moderada",
          "Moderada",
          "Moderada",
          "Moderada",
          "Moderada",
          "Moderada",
          "Moderada",
          "Moderada",
          "Moderada",
          "Moderada",
          "Moderada",
          "Moderada",
          "Moderada",
          "Moderada",
          "Moderada",
          "Moderada",
          "Moderada",
          "Moderada",
          "Moderada",
          "Moderada",
          "Moderada",
          "Moderada",
          "Moderada",
          "Moderada",
          "Moderada",
          "Moderada",
          "Moderada",
          "Moderada",
          "Moderada",
          "Moderada"
         ],
         "xaxis": "x3",
         "y": {
          "bdata": "AQEBAQEBAQEBAQEBAQEBAQEBAQEBAQEBAQEBAQEBAQEBAQEBAQEBAQEBAQEBAQEBAQEBAQEBAQEBAQEBAQEBAQEBAQEBAQEBAQEBAQEBAQEBAQEBAQEBAQEBAQEBAQEBAQEBAQEBAQEBAQEBAQEBAQEBAQEBAQEBAQEBAQEBAQEBAQEBAQEBAQEBAQEBAQEBAQEBAQEBAQEBAQEBAQEBAQEBAQEBAQEBAQEBAQEBAQEBAQEBAQEBAQEBAQEBAQEBAQEBAQEBAQEBAQEBAQEBAQEBAQEBAQEBAQEBAQEBAQEBAQEBAQEBAQEBAQEBAQEBAQEBAQEBAQEBAQE=",
          "dtype": "i1"
         },
         "yaxis": "y3"
        },
        {
         "hovertemplate": "Qualidade do Ar=%{x}<br>cidade=Belo Horizonte<br>count=%{y}<extra></extra>",
         "legendgroup": "Ruim",
         "marker": {
          "color": "#00cc96",
          "pattern": {
           "shape": ""
          }
         },
         "name": "Ruim",
         "orientation": "v",
         "showlegend": true,
         "textposition": "auto",
         "type": "bar",
         "x": [
          "Ruim",
          "Ruim",
          "Ruim",
          "Ruim",
          "Ruim",
          "Ruim",
          "Ruim",
          "Ruim"
         ],
         "xaxis": "x",
         "y": {
          "bdata": "AQEBAQEBAQE=",
          "dtype": "i1"
         },
         "yaxis": "y"
        },
        {
         "hovertemplate": "Qualidade do Ar=%{x}<br>cidade=Porto Alegre<br>count=%{y}<extra></extra>",
         "legendgroup": "Ruim",
         "marker": {
          "color": "#00cc96",
          "pattern": {
           "shape": ""
          }
         },
         "name": "Ruim",
         "orientation": "v",
         "showlegend": false,
         "textposition": "auto",
         "type": "bar",
         "x": [
          "Ruim",
          "Ruim",
          "Ruim",
          "Ruim",
          "Ruim",
          "Ruim",
          "Ruim"
         ],
         "xaxis": "x2",
         "y": {
          "bdata": "AQEBAQEBAQ==",
          "dtype": "i1"
         },
         "yaxis": "y2"
        },
        {
         "hovertemplate": "Qualidade do Ar=%{x}<br>cidade=Rio de Janeiro<br>count=%{y}<extra></extra>",
         "legendgroup": "Ruim",
         "marker": {
          "color": "#00cc96",
          "pattern": {
           "shape": ""
          }
         },
         "name": "Ruim",
         "orientation": "v",
         "showlegend": false,
         "textposition": "auto",
         "type": "bar",
         "x": [
          "Ruim",
          "Ruim",
          "Ruim",
          "Ruim"
         ],
         "xaxis": "x3",
         "y": {
          "bdata": "AQEBAQ==",
          "dtype": "i1"
         },
         "yaxis": "y3"
        }
       ],
       "layout": {
        "annotations": [
         {
          "font": {},
          "showarrow": false,
          "text": "cidade=Belo Horizonte",
          "x": 0.15999999999999998,
          "xanchor": "center",
          "xref": "paper",
          "y": 1,
          "yanchor": "bottom",
          "yref": "paper"
         },
         {
          "font": {},
          "showarrow": false,
          "text": "cidade=Porto Alegre",
          "x": 0.49999999999999994,
          "xanchor": "center",
          "xref": "paper",
          "y": 1,
          "yanchor": "bottom",
          "yref": "paper"
         },
         {
          "font": {},
          "showarrow": false,
          "text": "cidade=Rio de Janeiro",
          "x": 0.8399999999999999,
          "xanchor": "center",
          "xref": "paper",
          "y": 1,
          "yanchor": "bottom",
          "yref": "paper"
         }
        ],
        "barmode": "relative",
        "legend": {
         "title": {
          "text": "Qualidade do Ar"
         },
         "tracegroupgap": 0
        },
        "template": {
         "data": {
          "bar": [
           {
            "error_x": {
             "color": "#2a3f5f"
            },
            "error_y": {
             "color": "#2a3f5f"
            },
            "marker": {
             "line": {
              "color": "white",
              "width": 0.5
             },
             "pattern": {
              "fillmode": "overlay",
              "size": 10,
              "solidity": 0.2
             }
            },
            "type": "bar"
           }
          ],
          "barpolar": [
           {
            "marker": {
             "line": {
              "color": "white",
              "width": 0.5
             },
             "pattern": {
              "fillmode": "overlay",
              "size": 10,
              "solidity": 0.2
             }
            },
            "type": "barpolar"
           }
          ],
          "carpet": [
           {
            "aaxis": {
             "endlinecolor": "#2a3f5f",
             "gridcolor": "#C8D4E3",
             "linecolor": "#C8D4E3",
             "minorgridcolor": "#C8D4E3",
             "startlinecolor": "#2a3f5f"
            },
            "baxis": {
             "endlinecolor": "#2a3f5f",
             "gridcolor": "#C8D4E3",
             "linecolor": "#C8D4E3",
             "minorgridcolor": "#C8D4E3",
             "startlinecolor": "#2a3f5f"
            },
            "type": "carpet"
           }
          ],
          "choropleth": [
           {
            "colorbar": {
             "outlinewidth": 0,
             "ticks": ""
            },
            "type": "choropleth"
           }
          ],
          "contour": [
           {
            "colorbar": {
             "outlinewidth": 0,
             "ticks": ""
            },
            "colorscale": [
             [
              0,
              "#0d0887"
             ],
             [
              0.1111111111111111,
              "#46039f"
             ],
             [
              0.2222222222222222,
              "#7201a8"
             ],
             [
              0.3333333333333333,
              "#9c179e"
             ],
             [
              0.4444444444444444,
              "#bd3786"
             ],
             [
              0.5555555555555556,
              "#d8576b"
             ],
             [
              0.6666666666666666,
              "#ed7953"
             ],
             [
              0.7777777777777778,
              "#fb9f3a"
             ],
             [
              0.8888888888888888,
              "#fdca26"
             ],
             [
              1,
              "#f0f921"
             ]
            ],
            "type": "contour"
           }
          ],
          "contourcarpet": [
           {
            "colorbar": {
             "outlinewidth": 0,
             "ticks": ""
            },
            "type": "contourcarpet"
           }
          ],
          "heatmap": [
           {
            "colorbar": {
             "outlinewidth": 0,
             "ticks": ""
            },
            "colorscale": [
             [
              0,
              "#0d0887"
             ],
             [
              0.1111111111111111,
              "#46039f"
             ],
             [
              0.2222222222222222,
              "#7201a8"
             ],
             [
              0.3333333333333333,
              "#9c179e"
             ],
             [
              0.4444444444444444,
              "#bd3786"
             ],
             [
              0.5555555555555556,
              "#d8576b"
             ],
             [
              0.6666666666666666,
              "#ed7953"
             ],
             [
              0.7777777777777778,
              "#fb9f3a"
             ],
             [
              0.8888888888888888,
              "#fdca26"
             ],
             [
              1,
              "#f0f921"
             ]
            ],
            "type": "heatmap"
           }
          ],
          "histogram": [
           {
            "marker": {
             "pattern": {
              "fillmode": "overlay",
              "size": 10,
              "solidity": 0.2
             }
            },
            "type": "histogram"
           }
          ],
          "histogram2d": [
           {
            "colorbar": {
             "outlinewidth": 0,
             "ticks": ""
            },
            "colorscale": [
             [
              0,
              "#0d0887"
             ],
             [
              0.1111111111111111,
              "#46039f"
             ],
             [
              0.2222222222222222,
              "#7201a8"
             ],
             [
              0.3333333333333333,
              "#9c179e"
             ],
             [
              0.4444444444444444,
              "#bd3786"
             ],
             [
              0.5555555555555556,
              "#d8576b"
             ],
             [
              0.6666666666666666,
              "#ed7953"
             ],
             [
              0.7777777777777778,
              "#fb9f3a"
             ],
             [
              0.8888888888888888,
              "#fdca26"
             ],
             [
              1,
              "#f0f921"
             ]
            ],
            "type": "histogram2d"
           }
          ],
          "histogram2dcontour": [
           {
            "colorbar": {
             "outlinewidth": 0,
             "ticks": ""
            },
            "colorscale": [
             [
              0,
              "#0d0887"
             ],
             [
              0.1111111111111111,
              "#46039f"
             ],
             [
              0.2222222222222222,
              "#7201a8"
             ],
             [
              0.3333333333333333,
              "#9c179e"
             ],
             [
              0.4444444444444444,
              "#bd3786"
             ],
             [
              0.5555555555555556,
              "#d8576b"
             ],
             [
              0.6666666666666666,
              "#ed7953"
             ],
             [
              0.7777777777777778,
              "#fb9f3a"
             ],
             [
              0.8888888888888888,
              "#fdca26"
             ],
             [
              1,
              "#f0f921"
             ]
            ],
            "type": "histogram2dcontour"
           }
          ],
          "mesh3d": [
           {
            "colorbar": {
             "outlinewidth": 0,
             "ticks": ""
            },
            "type": "mesh3d"
           }
          ],
          "parcoords": [
           {
            "line": {
             "colorbar": {
              "outlinewidth": 0,
              "ticks": ""
             }
            },
            "type": "parcoords"
           }
          ],
          "pie": [
           {
            "automargin": true,
            "type": "pie"
           }
          ],
          "scatter": [
           {
            "fillpattern": {
             "fillmode": "overlay",
             "size": 10,
             "solidity": 0.2
            },
            "type": "scatter"
           }
          ],
          "scatter3d": [
           {
            "line": {
             "colorbar": {
              "outlinewidth": 0,
              "ticks": ""
             }
            },
            "marker": {
             "colorbar": {
              "outlinewidth": 0,
              "ticks": ""
             }
            },
            "type": "scatter3d"
           }
          ],
          "scattercarpet": [
           {
            "marker": {
             "colorbar": {
              "outlinewidth": 0,
              "ticks": ""
             }
            },
            "type": "scattercarpet"
           }
          ],
          "scattergeo": [
           {
            "marker": {
             "colorbar": {
              "outlinewidth": 0,
              "ticks": ""
             }
            },
            "type": "scattergeo"
           }
          ],
          "scattergl": [
           {
            "marker": {
             "colorbar": {
              "outlinewidth": 0,
              "ticks": ""
             }
            },
            "type": "scattergl"
           }
          ],
          "scattermap": [
           {
            "marker": {
             "colorbar": {
              "outlinewidth": 0,
              "ticks": ""
             }
            },
            "type": "scattermap"
           }
          ],
          "scattermapbox": [
           {
            "marker": {
             "colorbar": {
              "outlinewidth": 0,
              "ticks": ""
             }
            },
            "type": "scattermapbox"
           }
          ],
          "scatterpolar": [
           {
            "marker": {
             "colorbar": {
              "outlinewidth": 0,
              "ticks": ""
             }
            },
            "type": "scatterpolar"
           }
          ],
          "scatterpolargl": [
           {
            "marker": {
             "colorbar": {
              "outlinewidth": 0,
              "ticks": ""
             }
            },
            "type": "scatterpolargl"
           }
          ],
          "scatterternary": [
           {
            "marker": {
             "colorbar": {
              "outlinewidth": 0,
              "ticks": ""
             }
            },
            "type": "scatterternary"
           }
          ],
          "surface": [
           {
            "colorbar": {
             "outlinewidth": 0,
             "ticks": ""
            },
            "colorscale": [
             [
              0,
              "#0d0887"
             ],
             [
              0.1111111111111111,
              "#46039f"
             ],
             [
              0.2222222222222222,
              "#7201a8"
             ],
             [
              0.3333333333333333,
              "#9c179e"
             ],
             [
              0.4444444444444444,
              "#bd3786"
             ],
             [
              0.5555555555555556,
              "#d8576b"
             ],
             [
              0.6666666666666666,
              "#ed7953"
             ],
             [
              0.7777777777777778,
              "#fb9f3a"
             ],
             [
              0.8888888888888888,
              "#fdca26"
             ],
             [
              1,
              "#f0f921"
             ]
            ],
            "type": "surface"
           }
          ],
          "table": [
           {
            "cells": {
             "fill": {
              "color": "#EBF0F8"
             },
             "line": {
              "color": "white"
             }
            },
            "header": {
             "fill": {
              "color": "#C8D4E3"
             },
             "line": {
              "color": "white"
             }
            },
            "type": "table"
           }
          ]
         },
         "layout": {
          "annotationdefaults": {
           "arrowcolor": "#2a3f5f",
           "arrowhead": 0,
           "arrowwidth": 1
          },
          "autotypenumbers": "strict",
          "coloraxis": {
           "colorbar": {
            "outlinewidth": 0,
            "ticks": ""
           }
          },
          "colorscale": {
           "diverging": [
            [
             0,
             "#8e0152"
            ],
            [
             0.1,
             "#c51b7d"
            ],
            [
             0.2,
             "#de77ae"
            ],
            [
             0.3,
             "#f1b6da"
            ],
            [
             0.4,
             "#fde0ef"
            ],
            [
             0.5,
             "#f7f7f7"
            ],
            [
             0.6,
             "#e6f5d0"
            ],
            [
             0.7,
             "#b8e186"
            ],
            [
             0.8,
             "#7fbc41"
            ],
            [
             0.9,
             "#4d9221"
            ],
            [
             1,
             "#276419"
            ]
           ],
           "sequential": [
            [
             0,
             "#0d0887"
            ],
            [
             0.1111111111111111,
             "#46039f"
            ],
            [
             0.2222222222222222,
             "#7201a8"
            ],
            [
             0.3333333333333333,
             "#9c179e"
            ],
            [
             0.4444444444444444,
             "#bd3786"
            ],
            [
             0.5555555555555556,
             "#d8576b"
            ],
            [
             0.6666666666666666,
             "#ed7953"
            ],
            [
             0.7777777777777778,
             "#fb9f3a"
            ],
            [
             0.8888888888888888,
             "#fdca26"
            ],
            [
             1,
             "#f0f921"
            ]
           ],
           "sequentialminus": [
            [
             0,
             "#0d0887"
            ],
            [
             0.1111111111111111,
             "#46039f"
            ],
            [
             0.2222222222222222,
             "#7201a8"
            ],
            [
             0.3333333333333333,
             "#9c179e"
            ],
            [
             0.4444444444444444,
             "#bd3786"
            ],
            [
             0.5555555555555556,
             "#d8576b"
            ],
            [
             0.6666666666666666,
             "#ed7953"
            ],
            [
             0.7777777777777778,
             "#fb9f3a"
            ],
            [
             0.8888888888888888,
             "#fdca26"
            ],
            [
             1,
             "#f0f921"
            ]
           ]
          },
          "colorway": [
           "#636efa",
           "#EF553B",
           "#00cc96",
           "#ab63fa",
           "#FFA15A",
           "#19d3f3",
           "#FF6692",
           "#B6E880",
           "#FF97FF",
           "#FECB52"
          ],
          "font": {
           "color": "#2a3f5f"
          },
          "geo": {
           "bgcolor": "white",
           "lakecolor": "white",
           "landcolor": "white",
           "showlakes": true,
           "showland": true,
           "subunitcolor": "#C8D4E3"
          },
          "hoverlabel": {
           "align": "left"
          },
          "hovermode": "closest",
          "mapbox": {
           "style": "light"
          },
          "paper_bgcolor": "white",
          "plot_bgcolor": "white",
          "polar": {
           "angularaxis": {
            "gridcolor": "#EBF0F8",
            "linecolor": "#EBF0F8",
            "ticks": ""
           },
           "bgcolor": "white",
           "radialaxis": {
            "gridcolor": "#EBF0F8",
            "linecolor": "#EBF0F8",
            "ticks": ""
           }
          },
          "scene": {
           "xaxis": {
            "backgroundcolor": "white",
            "gridcolor": "#DFE8F3",
            "gridwidth": 2,
            "linecolor": "#EBF0F8",
            "showbackground": true,
            "ticks": "",
            "zerolinecolor": "#EBF0F8"
           },
           "yaxis": {
            "backgroundcolor": "white",
            "gridcolor": "#DFE8F3",
            "gridwidth": 2,
            "linecolor": "#EBF0F8",
            "showbackground": true,
            "ticks": "",
            "zerolinecolor": "#EBF0F8"
           },
           "zaxis": {
            "backgroundcolor": "white",
            "gridcolor": "#DFE8F3",
            "gridwidth": 2,
            "linecolor": "#EBF0F8",
            "showbackground": true,
            "ticks": "",
            "zerolinecolor": "#EBF0F8"
           }
          },
          "shapedefaults": {
           "line": {
            "color": "#2a3f5f"
           }
          },
          "ternary": {
           "aaxis": {
            "gridcolor": "#DFE8F3",
            "linecolor": "#A2B1C6",
            "ticks": ""
           },
           "baxis": {
            "gridcolor": "#DFE8F3",
            "linecolor": "#A2B1C6",
            "ticks": ""
           },
           "bgcolor": "white",
           "caxis": {
            "gridcolor": "#DFE8F3",
            "linecolor": "#A2B1C6",
            "ticks": ""
           }
          },
          "title": {
           "x": 0.05
          },
          "xaxis": {
           "automargin": true,
           "gridcolor": "#EBF0F8",
           "linecolor": "#EBF0F8",
           "ticks": "",
           "title": {
            "standoff": 15
           },
           "zerolinecolor": "#EBF0F8",
           "zerolinewidth": 2
          },
          "yaxis": {
           "automargin": true,
           "gridcolor": "#EBF0F8",
           "linecolor": "#EBF0F8",
           "ticks": "",
           "title": {
            "standoff": 15
           },
           "zerolinecolor": "#EBF0F8",
           "zerolinewidth": 2
          }
         }
        },
        "title": {
         "text": "<b>Distribuição da Qualidade do Ar por Cidade</b><br><sup>Qualidade do Ar (Média de Poluentes) -> Boa: <25 | Moderada: 25-40 | Ruim: 40-55 | Muito Ruim: >55</sup>"
        },
        "xaxis": {
         "anchor": "y",
         "categoryarray": [
          "Boa",
          "Moderada",
          "Ruim",
          "Muito Ruim"
         ],
         "categoryorder": "array",
         "domain": [
          0,
          0.31999999999999995
         ],
         "title": {
          "text": "Qualidade do Ar"
         }
        },
        "xaxis2": {
         "anchor": "y2",
         "categoryarray": [
          "Boa",
          "Moderada",
          "Ruim",
          "Muito Ruim"
         ],
         "categoryorder": "array",
         "domain": [
          0.33999999999999997,
          0.6599999999999999
         ],
         "matches": "x",
         "title": {
          "text": "Qualidade do Ar"
         }
        },
        "xaxis3": {
         "anchor": "y3",
         "categoryarray": [
          "Boa",
          "Moderada",
          "Ruim",
          "Muito Ruim"
         ],
         "categoryorder": "array",
         "domain": [
          0.6799999999999999,
          0.9999999999999999
         ],
         "matches": "x",
         "title": {
          "text": "Qualidade do Ar"
         }
        },
        "yaxis": {
         "anchor": "x",
         "domain": [
          0,
          1
         ],
         "title": {
          "text": "Número de Dias"
         }
        },
        "yaxis2": {
         "anchor": "x2",
         "domain": [
          0,
          1
         ],
         "matches": "y",
         "showticklabels": false,
         "title": {
          "text": "Número de Dias"
         }
        },
        "yaxis3": {
         "anchor": "x3",
         "domain": [
          0,
          1
         ],
         "matches": "y",
         "showticklabels": false,
         "title": {
          "text": "Número de Dias"
         }
        }
       }
      }
     },
     "metadata": {},
     "output_type": "display_data"
    }
   ],
   "source": [
    "legenda_texto = \"Qualidade do Ar (Média de Poluentes) -> Boa: <25 | Moderada: 25-40 | Ruim: 40-55 | Muito Ruim: >55\"\n",
    "\n",
    "fig3 = px.bar(\n",
    "    df_plotly, \n",
    "    x='QualidadeAr', \n",
    "    color='QualidadeAr', \n",
    "    facet_col='cidade',\n",
    "    category_orders={'QualidadeAr': ['Boa', 'Moderada', 'Ruim', 'Muito Ruim']},\n",
    "    \n",
    "    title=f'<b>Distribuição da Qualidade do Ar por Cidade</b><br><sup>{legenda_texto}</sup>',\n",
    "    \n",
    "    template='plotly_white',\n",
    "    labels={'QualidadeAr': 'Qualidade do Ar'}\n",
    ")\n",
    "fig3.update_yaxes(title_text='Número de Dias')\n",
    "\n",
    "fig3.show()"
   ]
  }
 ],
 "metadata": {
  "kernelspec": {
   "display_name": "venv",
   "language": "python",
   "name": "python3"
  },
  "language_info": {
   "codemirror_mode": {
    "name": "ipython",
    "version": 3
   },
   "file_extension": ".py",
   "mimetype": "text/x-python",
   "name": "python",
   "nbconvert_exporter": "python",
   "pygments_lexer": "ipython3",
   "version": "3.11.9"
  }
 },
 "nbformat": 4,
 "nbformat_minor": 2
}
