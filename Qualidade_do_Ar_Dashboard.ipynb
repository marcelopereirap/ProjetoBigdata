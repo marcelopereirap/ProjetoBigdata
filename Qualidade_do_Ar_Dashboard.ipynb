{
 "cells": [
  {
   "cell_type": "markdown",
   "metadata": {},
   "source": [
    "# Dashboard Interativo - Qualidade do Ar e Saúde\n",
    "Este notebook gera visualizações interativas com base em dados simulados sobre poluentes e saúde pública."
   ]
  },
  {
   "cell_type": "code",
   "execution_count": null,
   "metadata": {},
   "outputs": [],
   "source": [
    "import pandas as pd\n",
    "import os\n",
    "import sys\n",
    "from pyspark.sql import SparkSession\n",
    "from pyspark.sql.functions import col, avg, udf\n",
    "from pyspark.sql.types import StringType\n",
    "import plotly.express as px\n",
    "\n",
    "os.environ['PYSPARK_PYTHON'] = sys.executable\n",
    "os.environ['PYSPARK_DRIVER_PYTHON'] = sys.executable\n",
    "\n",
    "\n",
    "from pyspark.sql import SparkSession\n",
    "from pyspark.sql import SparkSession\n",
    "from pyspark.sql.functions import col, avg, udf\n",
    "from pyspark.sql.types import StringType\n",
    "\n",
    "spark = SparkSession.builder \\\n",
    "    .appName(\"QualidadeDoAr_1000Registros\") \\\n",
    "    .master(\"local[*]\") \\\n",
    "    .getOrCreate()\n",
    "\n",
    "print(\"SparkSession criada com sucesso!\")"
   ]
  },
  {
   "cell_type": "code",
   "execution_count": null,
   "metadata": {},
   "outputs": [],
   "source": [
    "spark_df = spark.read.csv(\n",
    "    'C:\\\\Users\\\\engro\\\\Documents\\\\ProjetoBigData\\\\dashboard_qualidade_ar.csv',\n",
    "header=True,\n",
    "inferSchema=True\n",
    ")\n",
    "\n",
    "print(\"Schema do DataFrame Spark:\")\n",
    "spark_df.printSchema()"
   ]
  },
  {
   "cell_type": "code",
   "execution_count": null,
   "metadata": {},
   "outputs": [],
   "source": [
    "poluentes_cols = ['pm2_5', 'pm10', 'no2', 'so2', 'o3', 'co', 'nh3', 'pb']\n",
    "\n",
    "spark_df_processed = spark_df.withColumn(\n",
    "    'MediaPoluentes',\n",
    "    sum(col(c) for c in poluentes_cols) / len(poluentes_cols)\n",
    ")"
   ]
  },
  {
   "cell_type": "code",
   "execution_count": null,
   "metadata": {},
   "outputs": [],
   "source": [
    "def classificar_qualidade_ar(media):\n",
    "    if media < 25:\n",
    "        return 'Boa'\n",
    "    elif media < 40:\n",
    "        return 'Moderada'\n",
    "    elif media < 55:\n",
    "        return 'Ruim'\n",
    "    else:\n",
    "        return 'Muito Ruim'\n",
    "\n",
    "classificar_udf = udf(classificar_qualidade_ar, StringType())\n",
    "\n",
    "spark_df_final = spark_df_processed.withColumn(\n",
    "    'QualidadeAr',\n",
    "    classificar_udf(col('MediaPoluentes'))\n",
    ")\n",
    "\n",
    "print(\"Processamento com Spark finalizado.\")\n",
    "spark_df_final.select('data', 'cidade', 'MediaPoluentes', 'QualidadeAr').show(5)"
   ]
  },
  {
   "cell_type": "code",
   "execution_count": null,
   "metadata": {},
   "outputs": [],
   "source": [
    "df_plotly = spark_df_final.toPandas()\n",
    "\n",
    "df_plotly['data'] = pd.to_datetime(df_plotly['data'])\n",
    "\n",
    "print(f\"DataFrame convertido para Pandas com {len(df_plotly)} registros.\")"
   ]
  },
  {
   "cell_type": "code",
   "execution_count": 9,
   "metadata": {},
   "outputs": [
    {
     "data": {
      "application/vnd.jupyter.widget-view+json": {
       "model_id": "4a1dc10a539d458c8185daf0ac583797",
       "version_major": 2,
       "version_minor": 0
      },
      "text/plain": [
       "VBox(children=(HBox(children=(Dropdown(description='Ano:', options=(np.int32(2022), np.int32(2023), np.int32(2…"
      ]
     },
     "metadata": {},
     "output_type": "display_data"
    }
   ],
   "source": [
    "import plotly.express as px\n",
    "import ipywidgets as widgets\n",
    "from ipywidgets import VBox, HBox\n",
    "from IPython.display import display, clear_output\n",
    "\n",
    "df_plotly['Ano'] = df_plotly['data'].dt.year\n",
    "df_plotly['Mês'] = df_plotly['data'].dt.month\n",
    "anos_disponiveis = sorted(df_plotly['Ano'].unique())\n",
    "meses_disponiveis = sorted(df_plotly['Mês'].unique())\n",
    "\n",
    "year_widget = widgets.Dropdown(options=anos_disponiveis, value=anos_disponiveis[0], description='Ano:')\n",
    "month_widget = widgets.SelectMultiple(options=meses_disponiveis, value=[1, 2, 3], description='Mês(es):')\n",
    "button = widgets.Button(description='Atualizar Gráfico', button_style='primary', icon='check')\n",
    "\n",
    "output_container = widgets.Output()\n",
    "\n",
    "\n",
    "def on_button_click_recreate(b):\n",
    "    ano = year_widget.value\n",
    "    meses = month_widget.value\n",
    "    \n",
    "   \n",
    "    df_filtrado = df_plotly[(df_plotly['Ano'] == ano) & (df_plotly['Mês'].isin(meses))]\n",
    "    \n",
    "    novo_grafico = px.bar(\n",
    "        df_filtrado,\n",
    "        x='data',\n",
    "        y='MediaPoluentes',\n",
    "        color='cidade',\n",
    "        title=f\"Poluição Diária em {ano}\"\n",
    "    )\n",
    "    \n",
    "    novo_grafico.update_layout(\n",
    "        yaxis_title=\"Índice de Média de Poluentes\"\n",
    "    )\n",
    "    novo_grafico.update_xaxes(\n",
    "        title_text=\"Data\",\n",
    "        tickformat=\"%b %Y\",  \n",
    "        rangeslider_visible=False\n",
    "    )\n",
    "    \n",
    "    with output_container:\n",
    "        clear_output(wait=True)\n",
    "        display(novo_grafico)\n",
    "\n",
    "\n",
    "button.on_click(on_button_click_recreate)\n",
    "\n",
    "controles = HBox([year_widget, month_widget])\n",
    "display(VBox([controles, button, output_container]))\n",
    "\n",
    "on_button_click_recreate(None)"
   ]
  },
  {
   "cell_type": "code",
   "execution_count": null,
   "metadata": {},
   "outputs": [],
   "source": [
    "legenda_texto = \"Qualidade do Ar (Média de Poluentes) -> Boa: <25 | Moderada: 25-40 | Ruim: 40-55 | Muito Ruim: >55\"\n",
    "\n",
    "df_agregado = df_plotly.groupby('QualidadeAr')['casos_problemas_respiratorios'].mean().reset_index()\n",
    "\n",
    "fig2_barras = px.bar(\n",
    "    df_agregado,\n",
    "    x='QualidadeAr',\n",
    "    y='casos_problemas_respiratorios',\n",
    "    color='QualidadeAr',\n",
    "    text_auto='.0f',\n",
    "    category_orders={'QualidadeAr': ['Boa', 'Moderada', 'Ruim', 'Muito Ruim']}, \n",
    "    \n",
    "    title=f\"<b>Média de Casos Respiratórios por Nível de Qualidade do Ar</b><br><sup>{legenda_texto}</sup>\", \n",
    "    \n",
    "    labels={\n",
    "        'QualidadeAr': 'Qualidade do Ar Classificada', \n",
    "        'casos_problemas_respiratorios': 'Média de Casos Respiratórios Diários'\n",
    "    },\n",
    "    template='plotly_white'\n",
    ")\n",
    "\n",
    "fig2_barras.show()"
   ]
  },
  {
   "cell_type": "code",
   "execution_count": null,
   "metadata": {},
   "outputs": [],
   "source": [
    "legenda_texto = \"Qualidade do Ar (Média de Poluentes) -> Boa: <25 | Moderada: 25-40 | Ruim: 40-55 | Muito Ruim: >55\"\n",
    "\n",
    "fig3 = px.bar(\n",
    "    df_plotly, \n",
    "    x='QualidadeAr', \n",
    "    color='QualidadeAr', \n",
    "    facet_col='cidade',\n",
    "    category_orders={'QualidadeAr': ['Boa', 'Moderada', 'Ruim', 'Muito Ruim']},\n",
    "    \n",
    "    title=f'<b>Distribuição da Qualidade do Ar por Cidade</b><br><sup>{legenda_texto}</sup>',\n",
    "    \n",
    "    template='plotly_white',\n",
    "    labels={'QualidadeAr': 'Qualidade do Ar'}\n",
    ")\n",
    "fig3.update_yaxes(title_text='Número de Dias')\n",
    "\n",
    "fig3.show()"
   ]
  }
 ],
 "metadata": {
  "kernelspec": {
   "display_name": "venv",
   "language": "python",
   "name": "python3"
  },
  "language_info": {
   "codemirror_mode": {
    "name": "ipython",
    "version": 3
   },
   "file_extension": ".py",
   "mimetype": "text/x-python",
   "name": "python",
   "nbconvert_exporter": "python",
   "pygments_lexer": "ipython3",
   "version": "3.11.9"
  }
 },
 "nbformat": 4,
 "nbformat_minor": 2
}
